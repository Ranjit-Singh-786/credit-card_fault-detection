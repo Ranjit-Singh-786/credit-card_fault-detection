{
 "cells": [
  {
   "cell_type": "code",
   "execution_count": 1,
   "id": "01839a92",
   "metadata": {},
   "outputs": [],
   "source": [
    "import pandas as pd\n",
    "import numpy as np\n",
    "from sklearn.model_selection import train_test_split\n",
    "from sklearn.decomposition import PCA\n",
    "from sklearn.svm import SVC\n",
    "from sklearn.preprocessing import StandardScaler\n",
    "from sklearn.utils import shuffle\n",
    "import imblearn\n",
    "from imblearn.over_sampling import  SMOTE\n",
    "import math\n",
    "import sklearn.preprocessing\n",
    "from sklearn.model_selection import train_test_split\n",
    "from sklearn.preprocessing import StandardScaler\n",
    "from sklearn.metrics import accuracy_score , classification_report, confusion_matrix, precision_recall_curve, f1_score, auc"
   ]
  },
  {
   "cell_type": "code",
   "execution_count": 3,
   "id": "e99b12d3",
   "metadata": {},
   "outputs": [
    {
     "data": {
      "text/html": [
       "<div>\n",
       "<style scoped>\n",
       "    .dataframe tbody tr th:only-of-type {\n",
       "        vertical-align: middle;\n",
       "    }\n",
       "\n",
       "    .dataframe tbody tr th {\n",
       "        vertical-align: top;\n",
       "    }\n",
       "\n",
       "    .dataframe thead th {\n",
       "        text-align: right;\n",
       "    }\n",
       "</style>\n",
       "<table border=\"1\" class=\"dataframe\">\n",
       "  <thead>\n",
       "    <tr style=\"text-align: right;\">\n",
       "      <th></th>\n",
       "      <th>Time</th>\n",
       "      <th>V1</th>\n",
       "      <th>V2</th>\n",
       "      <th>V3</th>\n",
       "      <th>V4</th>\n",
       "      <th>V5</th>\n",
       "      <th>V6</th>\n",
       "      <th>V7</th>\n",
       "      <th>V8</th>\n",
       "      <th>V9</th>\n",
       "      <th>...</th>\n",
       "      <th>V21</th>\n",
       "      <th>V22</th>\n",
       "      <th>V23</th>\n",
       "      <th>V24</th>\n",
       "      <th>V25</th>\n",
       "      <th>V26</th>\n",
       "      <th>V27</th>\n",
       "      <th>V28</th>\n",
       "      <th>Amount</th>\n",
       "      <th>Class</th>\n",
       "    </tr>\n",
       "  </thead>\n",
       "  <tbody>\n",
       "    <tr>\n",
       "      <th>0</th>\n",
       "      <td>0.0</td>\n",
       "      <td>-1.359807</td>\n",
       "      <td>-0.072781</td>\n",
       "      <td>2.536347</td>\n",
       "      <td>1.378155</td>\n",
       "      <td>-0.338321</td>\n",
       "      <td>0.462388</td>\n",
       "      <td>0.239599</td>\n",
       "      <td>0.098698</td>\n",
       "      <td>0.363787</td>\n",
       "      <td>...</td>\n",
       "      <td>-0.018307</td>\n",
       "      <td>0.277838</td>\n",
       "      <td>-0.110474</td>\n",
       "      <td>0.066928</td>\n",
       "      <td>0.128539</td>\n",
       "      <td>-0.189115</td>\n",
       "      <td>0.133558</td>\n",
       "      <td>-0.021053</td>\n",
       "      <td>149.62</td>\n",
       "      <td>0</td>\n",
       "    </tr>\n",
       "    <tr>\n",
       "      <th>1</th>\n",
       "      <td>0.0</td>\n",
       "      <td>1.191857</td>\n",
       "      <td>0.266151</td>\n",
       "      <td>0.166480</td>\n",
       "      <td>0.448154</td>\n",
       "      <td>0.060018</td>\n",
       "      <td>-0.082361</td>\n",
       "      <td>-0.078803</td>\n",
       "      <td>0.085102</td>\n",
       "      <td>-0.255425</td>\n",
       "      <td>...</td>\n",
       "      <td>-0.225775</td>\n",
       "      <td>-0.638672</td>\n",
       "      <td>0.101288</td>\n",
       "      <td>-0.339846</td>\n",
       "      <td>0.167170</td>\n",
       "      <td>0.125895</td>\n",
       "      <td>-0.008983</td>\n",
       "      <td>0.014724</td>\n",
       "      <td>2.69</td>\n",
       "      <td>0</td>\n",
       "    </tr>\n",
       "    <tr>\n",
       "      <th>2</th>\n",
       "      <td>1.0</td>\n",
       "      <td>-1.358354</td>\n",
       "      <td>-1.340163</td>\n",
       "      <td>1.773209</td>\n",
       "      <td>0.379780</td>\n",
       "      <td>-0.503198</td>\n",
       "      <td>1.800499</td>\n",
       "      <td>0.791461</td>\n",
       "      <td>0.247676</td>\n",
       "      <td>-1.514654</td>\n",
       "      <td>...</td>\n",
       "      <td>0.247998</td>\n",
       "      <td>0.771679</td>\n",
       "      <td>0.909412</td>\n",
       "      <td>-0.689281</td>\n",
       "      <td>-0.327642</td>\n",
       "      <td>-0.139097</td>\n",
       "      <td>-0.055353</td>\n",
       "      <td>-0.059752</td>\n",
       "      <td>378.66</td>\n",
       "      <td>0</td>\n",
       "    </tr>\n",
       "    <tr>\n",
       "      <th>3</th>\n",
       "      <td>1.0</td>\n",
       "      <td>-0.966272</td>\n",
       "      <td>-0.185226</td>\n",
       "      <td>1.792993</td>\n",
       "      <td>-0.863291</td>\n",
       "      <td>-0.010309</td>\n",
       "      <td>1.247203</td>\n",
       "      <td>0.237609</td>\n",
       "      <td>0.377436</td>\n",
       "      <td>-1.387024</td>\n",
       "      <td>...</td>\n",
       "      <td>-0.108300</td>\n",
       "      <td>0.005274</td>\n",
       "      <td>-0.190321</td>\n",
       "      <td>-1.175575</td>\n",
       "      <td>0.647376</td>\n",
       "      <td>-0.221929</td>\n",
       "      <td>0.062723</td>\n",
       "      <td>0.061458</td>\n",
       "      <td>123.50</td>\n",
       "      <td>0</td>\n",
       "    </tr>\n",
       "    <tr>\n",
       "      <th>4</th>\n",
       "      <td>2.0</td>\n",
       "      <td>-1.158233</td>\n",
       "      <td>0.877737</td>\n",
       "      <td>1.548718</td>\n",
       "      <td>0.403034</td>\n",
       "      <td>-0.407193</td>\n",
       "      <td>0.095921</td>\n",
       "      <td>0.592941</td>\n",
       "      <td>-0.270533</td>\n",
       "      <td>0.817739</td>\n",
       "      <td>...</td>\n",
       "      <td>-0.009431</td>\n",
       "      <td>0.798278</td>\n",
       "      <td>-0.137458</td>\n",
       "      <td>0.141267</td>\n",
       "      <td>-0.206010</td>\n",
       "      <td>0.502292</td>\n",
       "      <td>0.219422</td>\n",
       "      <td>0.215153</td>\n",
       "      <td>69.99</td>\n",
       "      <td>0</td>\n",
       "    </tr>\n",
       "  </tbody>\n",
       "</table>\n",
       "<p>5 rows × 31 columns</p>\n",
       "</div>"
      ],
      "text/plain": [
       "   Time        V1        V2        V3        V4        V5        V6        V7  \\\n",
       "0   0.0 -1.359807 -0.072781  2.536347  1.378155 -0.338321  0.462388  0.239599   \n",
       "1   0.0  1.191857  0.266151  0.166480  0.448154  0.060018 -0.082361 -0.078803   \n",
       "2   1.0 -1.358354 -1.340163  1.773209  0.379780 -0.503198  1.800499  0.791461   \n",
       "3   1.0 -0.966272 -0.185226  1.792993 -0.863291 -0.010309  1.247203  0.237609   \n",
       "4   2.0 -1.158233  0.877737  1.548718  0.403034 -0.407193  0.095921  0.592941   \n",
       "\n",
       "         V8        V9  ...       V21       V22       V23       V24       V25  \\\n",
       "0  0.098698  0.363787  ... -0.018307  0.277838 -0.110474  0.066928  0.128539   \n",
       "1  0.085102 -0.255425  ... -0.225775 -0.638672  0.101288 -0.339846  0.167170   \n",
       "2  0.247676 -1.514654  ...  0.247998  0.771679  0.909412 -0.689281 -0.327642   \n",
       "3  0.377436 -1.387024  ... -0.108300  0.005274 -0.190321 -1.175575  0.647376   \n",
       "4 -0.270533  0.817739  ... -0.009431  0.798278 -0.137458  0.141267 -0.206010   \n",
       "\n",
       "        V26       V27       V28  Amount  Class  \n",
       "0 -0.189115  0.133558 -0.021053  149.62      0  \n",
       "1  0.125895 -0.008983  0.014724    2.69      0  \n",
       "2 -0.139097 -0.055353 -0.059752  378.66      0  \n",
       "3 -0.221929  0.062723  0.061458  123.50      0  \n",
       "4  0.502292  0.219422  0.215153   69.99      0  \n",
       "\n",
       "[5 rows x 31 columns]"
      ]
     },
     "execution_count": 3,
     "metadata": {},
     "output_type": "execute_result"
    }
   ],
   "source": [
    "df = pd.read_csv('creditcard.csv')\n",
    "df.head()"
   ]
  },
  {
   "cell_type": "code",
   "execution_count": 4,
   "id": "91a31d4a",
   "metadata": {},
   "outputs": [
    {
     "name": "stdout",
     "output_type": "stream",
     "text": [
      "<class 'pandas.core.frame.DataFrame'>\n",
      "RangeIndex: 284807 entries, 0 to 284806\n",
      "Data columns (total 31 columns):\n",
      " #   Column  Non-Null Count   Dtype  \n",
      "---  ------  --------------   -----  \n",
      " 0   Time    284807 non-null  float64\n",
      " 1   V1      284807 non-null  float64\n",
      " 2   V2      284807 non-null  float64\n",
      " 3   V3      284807 non-null  float64\n",
      " 4   V4      284807 non-null  float64\n",
      " 5   V5      284807 non-null  float64\n",
      " 6   V6      284807 non-null  float64\n",
      " 7   V7      284807 non-null  float64\n",
      " 8   V8      284807 non-null  float64\n",
      " 9   V9      284807 non-null  float64\n",
      " 10  V10     284807 non-null  float64\n",
      " 11  V11     284807 non-null  float64\n",
      " 12  V12     284807 non-null  float64\n",
      " 13  V13     284807 non-null  float64\n",
      " 14  V14     284807 non-null  float64\n",
      " 15  V15     284807 non-null  float64\n",
      " 16  V16     284807 non-null  float64\n",
      " 17  V17     284807 non-null  float64\n",
      " 18  V18     284807 non-null  float64\n",
      " 19  V19     284807 non-null  float64\n",
      " 20  V20     284807 non-null  float64\n",
      " 21  V21     284807 non-null  float64\n",
      " 22  V22     284807 non-null  float64\n",
      " 23  V23     284807 non-null  float64\n",
      " 24  V24     284807 non-null  float64\n",
      " 25  V25     284807 non-null  float64\n",
      " 26  V26     284807 non-null  float64\n",
      " 27  V27     284807 non-null  float64\n",
      " 28  V28     284807 non-null  float64\n",
      " 29  Amount  284807 non-null  float64\n",
      " 30  Class   284807 non-null  int64  \n",
      "dtypes: float64(30), int64(1)\n",
      "memory usage: 67.4 MB\n"
     ]
    }
   ],
   "source": [
    "df.info()"
   ]
  },
  {
   "cell_type": "code",
   "execution_count": 5,
   "id": "0b1411c2",
   "metadata": {},
   "outputs": [
    {
     "data": {
      "text/plain": [
       "0    284315\n",
       "1       492\n",
       "Name: Class, dtype: int64"
      ]
     },
     "execution_count": 5,
     "metadata": {},
     "output_type": "execute_result"
    }
   ],
   "source": [
    "df['Class'].value_counts()"
   ]
  },
  {
   "cell_type": "code",
   "execution_count": 9,
   "id": "1cb21a09",
   "metadata": {},
   "outputs": [],
   "source": [
    "class1 = df[df['Class']==1]"
   ]
  },
  {
   "cell_type": "code",
   "execution_count": 18,
   "id": "423dca2d",
   "metadata": {},
   "outputs": [
    {
     "data": {
      "text/plain": [
       "(492, 31)"
      ]
     },
     "execution_count": 18,
     "metadata": {},
     "output_type": "execute_result"
    }
   ],
   "source": [
    "class1.shape"
   ]
  },
  {
   "cell_type": "code",
   "execution_count": 10,
   "id": "9145e23a",
   "metadata": {},
   "outputs": [],
   "source": [
    "temp = shuffle(class1)"
   ]
  },
  {
   "cell_type": "code",
   "execution_count": 17,
   "id": "9c3a6e17",
   "metadata": {},
   "outputs": [
    {
     "data": {
      "text/plain": [
       "(492, 31)"
      ]
     },
     "execution_count": 17,
     "metadata": {},
     "output_type": "execute_result"
    }
   ],
   "source": [
    "temp.shape"
   ]
  },
  {
   "cell_type": "code",
   "execution_count": 15,
   "id": "f44cccc8",
   "metadata": {},
   "outputs": [],
   "source": [
    "d1 = temp.iloc[:2000,:]"
   ]
  },
  {
   "cell_type": "code",
   "execution_count": 16,
   "id": "61b24285",
   "metadata": {},
   "outputs": [
    {
     "data": {
      "text/plain": [
       "(492, 31)"
      ]
     },
     "execution_count": 16,
     "metadata": {},
     "output_type": "execute_result"
    }
   ],
   "source": [
    "d1.shape"
   ]
  },
  {
   "cell_type": "code",
   "execution_count": 19,
   "id": "eb8c5426",
   "metadata": {},
   "outputs": [],
   "source": [
    "X=df.iloc[ : ,:-1]\n",
    "Y=df.iloc[: , -1]"
   ]
  },
  {
   "cell_type": "code",
   "execution_count": 23,
   "id": "c1c0a6dc",
   "metadata": {},
   "outputs": [
    {
     "data": {
      "text/plain": [
       "((284807, 30), (284807,))"
      ]
     },
     "execution_count": 23,
     "metadata": {},
     "output_type": "execute_result"
    }
   ],
   "source": [
    "X.shape,Y.shape"
   ]
  },
  {
   "cell_type": "code",
   "execution_count": 24,
   "id": "fe6c8977",
   "metadata": {},
   "outputs": [],
   "source": [
    "# imbalance data handling\n",
    "oversample=SMOTE()\n",
    "X,Y=oversample.fit_resample(X,Y)"
   ]
  },
  {
   "cell_type": "code",
   "execution_count": 25,
   "id": "92eccbec",
   "metadata": {},
   "outputs": [],
   "source": [
    "X=pd.DataFrame(X)\n",
    "Y=pd.DataFrame(Y)\n",
    "names=['Time','V1','V2','V3','V4','V5','V6','V7','V8','V9','V10','V11','V12','V13','V14','V15','V16','V17','V18','V19','V20','V21','V22','V23','V24','V25','V26','V27','V28','Amount','Class']\n",
    "data=pd.concat([X,Y],axis=1)\n",
    "d=data.values\n",
    "data=pd.DataFrame(d,columns=names)"
   ]
  },
  {
   "cell_type": "code",
   "execution_count": 26,
   "id": "20758801",
   "metadata": {},
   "outputs": [
    {
     "data": {
      "text/html": [
       "<div>\n",
       "<style scoped>\n",
       "    .dataframe tbody tr th:only-of-type {\n",
       "        vertical-align: middle;\n",
       "    }\n",
       "\n",
       "    .dataframe tbody tr th {\n",
       "        vertical-align: top;\n",
       "    }\n",
       "\n",
       "    .dataframe thead th {\n",
       "        text-align: right;\n",
       "    }\n",
       "</style>\n",
       "<table border=\"1\" class=\"dataframe\">\n",
       "  <thead>\n",
       "    <tr style=\"text-align: right;\">\n",
       "      <th></th>\n",
       "      <th>Time</th>\n",
       "      <th>V1</th>\n",
       "      <th>V2</th>\n",
       "      <th>V3</th>\n",
       "      <th>V4</th>\n",
       "      <th>V5</th>\n",
       "      <th>V6</th>\n",
       "      <th>V7</th>\n",
       "      <th>V8</th>\n",
       "      <th>V9</th>\n",
       "      <th>...</th>\n",
       "      <th>V21</th>\n",
       "      <th>V22</th>\n",
       "      <th>V23</th>\n",
       "      <th>V24</th>\n",
       "      <th>V25</th>\n",
       "      <th>V26</th>\n",
       "      <th>V27</th>\n",
       "      <th>V28</th>\n",
       "      <th>Amount</th>\n",
       "      <th>Class</th>\n",
       "    </tr>\n",
       "  </thead>\n",
       "  <tbody>\n",
       "    <tr>\n",
       "      <th>0</th>\n",
       "      <td>0.0</td>\n",
       "      <td>-1.359807</td>\n",
       "      <td>-0.072781</td>\n",
       "      <td>2.536347</td>\n",
       "      <td>1.378155</td>\n",
       "      <td>-0.338321</td>\n",
       "      <td>0.462388</td>\n",
       "      <td>0.239599</td>\n",
       "      <td>0.098698</td>\n",
       "      <td>0.363787</td>\n",
       "      <td>...</td>\n",
       "      <td>-0.018307</td>\n",
       "      <td>0.277838</td>\n",
       "      <td>-0.110474</td>\n",
       "      <td>0.066928</td>\n",
       "      <td>0.128539</td>\n",
       "      <td>-0.189115</td>\n",
       "      <td>0.133558</td>\n",
       "      <td>-0.021053</td>\n",
       "      <td>149.62</td>\n",
       "      <td>0.0</td>\n",
       "    </tr>\n",
       "    <tr>\n",
       "      <th>1</th>\n",
       "      <td>0.0</td>\n",
       "      <td>1.191857</td>\n",
       "      <td>0.266151</td>\n",
       "      <td>0.166480</td>\n",
       "      <td>0.448154</td>\n",
       "      <td>0.060018</td>\n",
       "      <td>-0.082361</td>\n",
       "      <td>-0.078803</td>\n",
       "      <td>0.085102</td>\n",
       "      <td>-0.255425</td>\n",
       "      <td>...</td>\n",
       "      <td>-0.225775</td>\n",
       "      <td>-0.638672</td>\n",
       "      <td>0.101288</td>\n",
       "      <td>-0.339846</td>\n",
       "      <td>0.167170</td>\n",
       "      <td>0.125895</td>\n",
       "      <td>-0.008983</td>\n",
       "      <td>0.014724</td>\n",
       "      <td>2.69</td>\n",
       "      <td>0.0</td>\n",
       "    </tr>\n",
       "    <tr>\n",
       "      <th>2</th>\n",
       "      <td>1.0</td>\n",
       "      <td>-1.358354</td>\n",
       "      <td>-1.340163</td>\n",
       "      <td>1.773209</td>\n",
       "      <td>0.379780</td>\n",
       "      <td>-0.503198</td>\n",
       "      <td>1.800499</td>\n",
       "      <td>0.791461</td>\n",
       "      <td>0.247676</td>\n",
       "      <td>-1.514654</td>\n",
       "      <td>...</td>\n",
       "      <td>0.247998</td>\n",
       "      <td>0.771679</td>\n",
       "      <td>0.909412</td>\n",
       "      <td>-0.689281</td>\n",
       "      <td>-0.327642</td>\n",
       "      <td>-0.139097</td>\n",
       "      <td>-0.055353</td>\n",
       "      <td>-0.059752</td>\n",
       "      <td>378.66</td>\n",
       "      <td>0.0</td>\n",
       "    </tr>\n",
       "    <tr>\n",
       "      <th>3</th>\n",
       "      <td>1.0</td>\n",
       "      <td>-0.966272</td>\n",
       "      <td>-0.185226</td>\n",
       "      <td>1.792993</td>\n",
       "      <td>-0.863291</td>\n",
       "      <td>-0.010309</td>\n",
       "      <td>1.247203</td>\n",
       "      <td>0.237609</td>\n",
       "      <td>0.377436</td>\n",
       "      <td>-1.387024</td>\n",
       "      <td>...</td>\n",
       "      <td>-0.108300</td>\n",
       "      <td>0.005274</td>\n",
       "      <td>-0.190321</td>\n",
       "      <td>-1.175575</td>\n",
       "      <td>0.647376</td>\n",
       "      <td>-0.221929</td>\n",
       "      <td>0.062723</td>\n",
       "      <td>0.061458</td>\n",
       "      <td>123.50</td>\n",
       "      <td>0.0</td>\n",
       "    </tr>\n",
       "    <tr>\n",
       "      <th>4</th>\n",
       "      <td>2.0</td>\n",
       "      <td>-1.158233</td>\n",
       "      <td>0.877737</td>\n",
       "      <td>1.548718</td>\n",
       "      <td>0.403034</td>\n",
       "      <td>-0.407193</td>\n",
       "      <td>0.095921</td>\n",
       "      <td>0.592941</td>\n",
       "      <td>-0.270533</td>\n",
       "      <td>0.817739</td>\n",
       "      <td>...</td>\n",
       "      <td>-0.009431</td>\n",
       "      <td>0.798278</td>\n",
       "      <td>-0.137458</td>\n",
       "      <td>0.141267</td>\n",
       "      <td>-0.206010</td>\n",
       "      <td>0.502292</td>\n",
       "      <td>0.219422</td>\n",
       "      <td>0.215153</td>\n",
       "      <td>69.99</td>\n",
       "      <td>0.0</td>\n",
       "    </tr>\n",
       "  </tbody>\n",
       "</table>\n",
       "<p>5 rows × 31 columns</p>\n",
       "</div>"
      ],
      "text/plain": [
       "   Time        V1        V2        V3        V4        V5        V6        V7  \\\n",
       "0   0.0 -1.359807 -0.072781  2.536347  1.378155 -0.338321  0.462388  0.239599   \n",
       "1   0.0  1.191857  0.266151  0.166480  0.448154  0.060018 -0.082361 -0.078803   \n",
       "2   1.0 -1.358354 -1.340163  1.773209  0.379780 -0.503198  1.800499  0.791461   \n",
       "3   1.0 -0.966272 -0.185226  1.792993 -0.863291 -0.010309  1.247203  0.237609   \n",
       "4   2.0 -1.158233  0.877737  1.548718  0.403034 -0.407193  0.095921  0.592941   \n",
       "\n",
       "         V8        V9  ...       V21       V22       V23       V24       V25  \\\n",
       "0  0.098698  0.363787  ... -0.018307  0.277838 -0.110474  0.066928  0.128539   \n",
       "1  0.085102 -0.255425  ... -0.225775 -0.638672  0.101288 -0.339846  0.167170   \n",
       "2  0.247676 -1.514654  ...  0.247998  0.771679  0.909412 -0.689281 -0.327642   \n",
       "3  0.377436 -1.387024  ... -0.108300  0.005274 -0.190321 -1.175575  0.647376   \n",
       "4 -0.270533  0.817739  ... -0.009431  0.798278 -0.137458  0.141267 -0.206010   \n",
       "\n",
       "        V26       V27       V28  Amount  Class  \n",
       "0 -0.189115  0.133558 -0.021053  149.62    0.0  \n",
       "1  0.125895 -0.008983  0.014724    2.69    0.0  \n",
       "2 -0.139097 -0.055353 -0.059752  378.66    0.0  \n",
       "3 -0.221929  0.062723  0.061458  123.50    0.0  \n",
       "4  0.502292  0.219422  0.215153   69.99    0.0  \n",
       "\n",
       "[5 rows x 31 columns]"
      ]
     },
     "execution_count": 26,
     "metadata": {},
     "output_type": "execute_result"
    }
   ],
   "source": [
    "data.head()"
   ]
  },
  {
   "cell_type": "code",
   "execution_count": 27,
   "id": "8ba356ab",
   "metadata": {},
   "outputs": [
    {
     "data": {
      "text/plain": [
       "0.0    284315\n",
       "1.0    284315\n",
       "Name: Class, dtype: int64"
      ]
     },
     "execution_count": 27,
     "metadata": {},
     "output_type": "execute_result"
    }
   ],
   "source": [
    "data['Class'].value_counts()"
   ]
  },
  {
   "cell_type": "code",
   "execution_count": 30,
   "id": "cb746ed5",
   "metadata": {},
   "outputs": [],
   "source": [
    "import matplotlib.pyplot as plt\n",
    "import seaborn as sns\n",
    "%matplotlib inline"
   ]
  },
  {
   "cell_type": "code",
   "execution_count": 31,
   "id": "410eca75",
   "metadata": {},
   "outputs": [
    {
     "data": {
      "text/plain": [
       "<AxesSubplot:>"
      ]
     },
     "execution_count": 31,
     "metadata": {},
     "output_type": "execute_result"
    },
    {
     "data": {
      "image/png": "[encoded data removed]",
      "text/plain": [
       "<Figure size 864x720 with 2 Axes>"
      ]
     },
     "metadata": {
      "needs_background": "light"
     },
     "output_type": "display_data"
    }
   ],
   "source": [
    "plt.figure(figsize=(12,10))\n",
    "sns.heatmap(data.corr())\n",
    "\n"
   ]
  },
  {
   "cell_type": "code",
   "execution_count": 33,
   "id": "4671c7e7",
   "metadata": {},
   "outputs": [],
   "source": [
    "X_train, X_test, y_train, y_test = train_test_split(data.drop('Class', axis=1), data['Class'], test_size=0.3, random_state=42)\n"
   ]
  },
  {
   "cell_type": "code",
   "execution_count": 34,
   "id": "1cb46a33",
   "metadata": {},
   "outputs": [
    {
     "data": {
      "text/html": [
       "<div>\n",
       "<style scoped>\n",
       "    .dataframe tbody tr th:only-of-type {\n",
       "        vertical-align: middle;\n",
       "    }\n",
       "\n",
       "    .dataframe tbody tr th {\n",
       "        vertical-align: top;\n",
       "    }\n",
       "\n",
       "    .dataframe thead th {\n",
       "        text-align: right;\n",
       "    }\n",
       "</style>\n",
       "<table border=\"1\" class=\"dataframe\">\n",
       "  <thead>\n",
       "    <tr style=\"text-align: right;\">\n",
       "      <th></th>\n",
       "      <th>Time</th>\n",
       "      <th>V1</th>\n",
       "      <th>V2</th>\n",
       "      <th>V3</th>\n",
       "      <th>V4</th>\n",
       "      <th>V5</th>\n",
       "      <th>V6</th>\n",
       "      <th>V7</th>\n",
       "      <th>V8</th>\n",
       "      <th>V9</th>\n",
       "      <th>...</th>\n",
       "      <th>V20</th>\n",
       "      <th>V21</th>\n",
       "      <th>V22</th>\n",
       "      <th>V23</th>\n",
       "      <th>V24</th>\n",
       "      <th>V25</th>\n",
       "      <th>V26</th>\n",
       "      <th>V27</th>\n",
       "      <th>V28</th>\n",
       "      <th>Amount</th>\n",
       "    </tr>\n",
       "  </thead>\n",
       "  <tbody>\n",
       "    <tr>\n",
       "      <th>437378</th>\n",
       "      <td>74924.702104</td>\n",
       "      <td>-0.686004</td>\n",
       "      <td>1.179490</td>\n",
       "      <td>0.139938</td>\n",
       "      <td>0.285198</td>\n",
       "      <td>0.132141</td>\n",
       "      <td>-1.276809</td>\n",
       "      <td>0.902331</td>\n",
       "      <td>-0.196019</td>\n",
       "      <td>-0.399156</td>\n",
       "      <td>...</td>\n",
       "      <td>-0.167430</td>\n",
       "      <td>0.021960</td>\n",
       "      <td>-0.243938</td>\n",
       "      <td>-0.100177</td>\n",
       "      <td>0.253494</td>\n",
       "      <td>0.211248</td>\n",
       "      <td>-0.591910</td>\n",
       "      <td>-0.122543</td>\n",
       "      <td>0.040445</td>\n",
       "      <td>69.630104</td>\n",
       "    </tr>\n",
       "    <tr>\n",
       "      <th>504222</th>\n",
       "      <td>31104.285700</td>\n",
       "      <td>-2.401942</td>\n",
       "      <td>1.001631</td>\n",
       "      <td>0.807594</td>\n",
       "      <td>2.992284</td>\n",
       "      <td>0.127352</td>\n",
       "      <td>0.114616</td>\n",
       "      <td>1.221635</td>\n",
       "      <td>-2.037524</td>\n",
       "      <td>-0.219640</td>\n",
       "      <td>...</td>\n",
       "      <td>-0.840547</td>\n",
       "      <td>0.507469</td>\n",
       "      <td>0.201744</td>\n",
       "      <td>0.161209</td>\n",
       "      <td>0.563617</td>\n",
       "      <td>-0.403885</td>\n",
       "      <td>-0.086541</td>\n",
       "      <td>-2.104769</td>\n",
       "      <td>0.310993</td>\n",
       "      <td>90.392299</td>\n",
       "    </tr>\n",
       "    <tr>\n",
       "      <th>4794</th>\n",
       "      <td>4267.000000</td>\n",
       "      <td>-0.851994</td>\n",
       "      <td>0.935553</td>\n",
       "      <td>2.188136</td>\n",
       "      <td>0.709286</td>\n",
       "      <td>0.178930</td>\n",
       "      <td>-0.349335</td>\n",
       "      <td>0.857609</td>\n",
       "      <td>-0.416252</td>\n",
       "      <td>1.066375</td>\n",
       "      <td>...</td>\n",
       "      <td>0.270933</td>\n",
       "      <td>-0.411022</td>\n",
       "      <td>-0.404762</td>\n",
       "      <td>-0.096893</td>\n",
       "      <td>0.404476</td>\n",
       "      <td>0.377388</td>\n",
       "      <td>0.344173</td>\n",
       "      <td>-0.000311</td>\n",
       "      <td>-0.125090</td>\n",
       "      <td>30.530000</td>\n",
       "    </tr>\n",
       "    <tr>\n",
       "      <th>388411</th>\n",
       "      <td>84308.265538</td>\n",
       "      <td>-1.774152</td>\n",
       "      <td>2.995084</td>\n",
       "      <td>-6.173329</td>\n",
       "      <td>4.562258</td>\n",
       "      <td>-2.406689</td>\n",
       "      <td>-2.249984</td>\n",
       "      <td>-5.855187</td>\n",
       "      <td>1.569424</td>\n",
       "      <td>-4.086540</td>\n",
       "      <td>...</td>\n",
       "      <td>1.031177</td>\n",
       "      <td>1.109673</td>\n",
       "      <td>-0.398387</td>\n",
       "      <td>-0.117935</td>\n",
       "      <td>-0.355338</td>\n",
       "      <td>0.808269</td>\n",
       "      <td>0.976564</td>\n",
       "      <td>1.388705</td>\n",
       "      <td>0.547354</td>\n",
       "      <td>2.619406</td>\n",
       "    </tr>\n",
       "    <tr>\n",
       "      <th>424512</th>\n",
       "      <td>20782.556198</td>\n",
       "      <td>-16.181737</td>\n",
       "      <td>9.067796</td>\n",
       "      <td>-23.111024</td>\n",
       "      <td>11.852218</td>\n",
       "      <td>-9.333424</td>\n",
       "      <td>-2.430265</td>\n",
       "      <td>-16.801735</td>\n",
       "      <td>1.235770</td>\n",
       "      <td>-6.295744</td>\n",
       "      <td>...</td>\n",
       "      <td>0.996602</td>\n",
       "      <td>-2.344929</td>\n",
       "      <td>1.015300</td>\n",
       "      <td>1.173158</td>\n",
       "      <td>-1.046142</td>\n",
       "      <td>-0.060228</td>\n",
       "      <td>0.662262</td>\n",
       "      <td>2.126157</td>\n",
       "      <td>-1.414554</td>\n",
       "      <td>1.000000</td>\n",
       "    </tr>\n",
       "  </tbody>\n",
       "</table>\n",
       "<p>5 rows × 30 columns</p>\n",
       "</div>"
      ],
      "text/plain": [
       "                Time         V1        V2         V3         V4        V5  \\\n",
       "437378  74924.702104  -0.686004  1.179490   0.139938   0.285198  0.132141   \n",
       "504222  31104.285700  -2.401942  1.001631   0.807594   2.992284  0.127352   \n",
       "4794     4267.000000  -0.851994  0.935553   2.188136   0.709286  0.178930   \n",
       "388411  84308.265538  -1.774152  2.995084  -6.173329   4.562258 -2.406689   \n",
       "424512  20782.556198 -16.181737  9.067796 -23.111024  11.852218 -9.333424   \n",
       "\n",
       "              V6         V7        V8        V9  ...       V20       V21  \\\n",
       "437378 -1.276809   0.902331 -0.196019 -0.399156  ... -0.167430  0.021960   \n",
       "504222  0.114616   1.221635 -2.037524 -0.219640  ... -0.840547  0.507469   \n",
       "4794   -0.349335   0.857609 -0.416252  1.066375  ...  0.270933 -0.411022   \n",
       "388411 -2.249984  -5.855187  1.569424 -4.086540  ...  1.031177  1.109673   \n",
       "424512 -2.430265 -16.801735  1.235770 -6.295744  ...  0.996602 -2.344929   \n",
       "\n",
       "             V22       V23       V24       V25       V26       V27       V28  \\\n",
       "437378 -0.243938 -0.100177  0.253494  0.211248 -0.591910 -0.122543  0.040445   \n",
       "504222  0.201744  0.161209  0.563617 -0.403885 -0.086541 -2.104769  0.310993   \n",
       "4794   -0.404762 -0.096893  0.404476  0.377388  0.344173 -0.000311 -0.125090   \n",
       "388411 -0.398387 -0.117935 -0.355338  0.808269  0.976564  1.388705  0.547354   \n",
       "424512  1.015300  1.173158 -1.046142 -0.060228  0.662262  2.126157 -1.414554   \n",
       "\n",
       "           Amount  \n",
       "437378  69.630104  \n",
       "504222  90.392299  \n",
       "4794    30.530000  \n",
       "388411   2.619406  \n",
       "424512   1.000000  \n",
       "\n",
       "[5 rows x 30 columns]"
      ]
     },
     "execution_count": 34,
     "metadata": {},
     "output_type": "execute_result"
    }
   ],
   "source": [
    "X_test.head()"
   ]
  },
  {
   "cell_type": "code",
   "execution_count": 35,
   "id": "b9875ee5",
   "metadata": {},
   "outputs": [
    {
     "data": {
      "text/plain": [
       "437378    1.0\n",
       "504222    1.0\n",
       "4794      0.0\n",
       "388411    1.0\n",
       "424512    1.0\n",
       "Name: Class, dtype: float64"
      ]
     },
     "execution_count": 35,
     "metadata": {},
     "output_type": "execute_result"
    }
   ],
   "source": [
    "y_test.head()"
   ]
  },
  {
   "cell_type": "code",
   "execution_count": 36,
   "id": "f19e7b53",
   "metadata": {},
   "outputs": [],
   "source": [
    "cols= ['V22', 'V24', 'V25', 'V26', 'V27', 'V28']\n",
    "\n",
    "scaler = StandardScaler()\n",
    "\n",
    "frames= ['Time', 'Amount']\n",
    "\n",
    "x= data[frames]\n",
    "\n",
    "d_temp = data.drop(frames, axis=1)\n",
    "\n",
    "temp_col=scaler.fit_transform(x)\n",
    "\n",
    "scaled_col = pd.DataFrame(temp_col, columns=frames)\n",
    "\n",
    "\n",
    "\n",
    "d_scaled = pd.concat([scaled_col, d_temp], axis =1)\n",
    "\n",
    "\n",
    "\n",
    "\n"
   ]
  },
  {
   "cell_type": "code",
   "execution_count": 38,
   "id": "f6259a38",
   "metadata": {},
   "outputs": [
    {
     "data": {
      "text/html": [
       "<div>\n",
       "<style scoped>\n",
       "    .dataframe tbody tr th:only-of-type {\n",
       "        vertical-align: middle;\n",
       "    }\n",
       "\n",
       "    .dataframe tbody tr th {\n",
       "        vertical-align: top;\n",
       "    }\n",
       "\n",
       "    .dataframe thead th {\n",
       "        text-align: right;\n",
       "    }\n",
       "</style>\n",
       "<table border=\"1\" class=\"dataframe\">\n",
       "  <thead>\n",
       "    <tr style=\"text-align: right;\">\n",
       "      <th></th>\n",
       "      <th>Time</th>\n",
       "      <th>Amount</th>\n",
       "      <th>V1</th>\n",
       "      <th>V2</th>\n",
       "      <th>V3</th>\n",
       "      <th>V4</th>\n",
       "      <th>V5</th>\n",
       "      <th>V6</th>\n",
       "      <th>V7</th>\n",
       "      <th>V8</th>\n",
       "      <th>...</th>\n",
       "      <th>V20</th>\n",
       "      <th>V21</th>\n",
       "      <th>V22</th>\n",
       "      <th>V23</th>\n",
       "      <th>V24</th>\n",
       "      <th>V25</th>\n",
       "      <th>V26</th>\n",
       "      <th>V27</th>\n",
       "      <th>V28</th>\n",
       "      <th>Class</th>\n",
       "    </tr>\n",
       "  </thead>\n",
       "  <tbody>\n",
       "    <tr>\n",
       "      <th>0</th>\n",
       "      <td>-1.823447</td>\n",
       "      <td>0.243584</td>\n",
       "      <td>-1.359807</td>\n",
       "      <td>-0.072781</td>\n",
       "      <td>2.536347</td>\n",
       "      <td>1.378155</td>\n",
       "      <td>-0.338321</td>\n",
       "      <td>0.462388</td>\n",
       "      <td>0.239599</td>\n",
       "      <td>0.098698</td>\n",
       "      <td>...</td>\n",
       "      <td>0.251412</td>\n",
       "      <td>-0.018307</td>\n",
       "      <td>0.277838</td>\n",
       "      <td>-0.110474</td>\n",
       "      <td>0.066928</td>\n",
       "      <td>0.128539</td>\n",
       "      <td>-0.189115</td>\n",
       "      <td>0.133558</td>\n",
       "      <td>-0.021053</td>\n",
       "      <td>0.0</td>\n",
       "    </tr>\n",
       "    <tr>\n",
       "      <th>1</th>\n",
       "      <td>-1.823447</td>\n",
       "      <td>-0.422082</td>\n",
       "      <td>1.191857</td>\n",
       "      <td>0.266151</td>\n",
       "      <td>0.166480</td>\n",
       "      <td>0.448154</td>\n",
       "      <td>0.060018</td>\n",
       "      <td>-0.082361</td>\n",
       "      <td>-0.078803</td>\n",
       "      <td>0.085102</td>\n",
       "      <td>...</td>\n",
       "      <td>-0.069083</td>\n",
       "      <td>-0.225775</td>\n",
       "      <td>-0.638672</td>\n",
       "      <td>0.101288</td>\n",
       "      <td>-0.339846</td>\n",
       "      <td>0.167170</td>\n",
       "      <td>0.125895</td>\n",
       "      <td>-0.008983</td>\n",
       "      <td>0.014724</td>\n",
       "      <td>0.0</td>\n",
       "    </tr>\n",
       "    <tr>\n",
       "      <th>2</th>\n",
       "      <td>-1.823426</td>\n",
       "      <td>1.281250</td>\n",
       "      <td>-1.358354</td>\n",
       "      <td>-1.340163</td>\n",
       "      <td>1.773209</td>\n",
       "      <td>0.379780</td>\n",
       "      <td>-0.503198</td>\n",
       "      <td>1.800499</td>\n",
       "      <td>0.791461</td>\n",
       "      <td>0.247676</td>\n",
       "      <td>...</td>\n",
       "      <td>0.524980</td>\n",
       "      <td>0.247998</td>\n",
       "      <td>0.771679</td>\n",
       "      <td>0.909412</td>\n",
       "      <td>-0.689281</td>\n",
       "      <td>-0.327642</td>\n",
       "      <td>-0.139097</td>\n",
       "      <td>-0.055353</td>\n",
       "      <td>-0.059752</td>\n",
       "      <td>0.0</td>\n",
       "    </tr>\n",
       "    <tr>\n",
       "      <th>3</th>\n",
       "      <td>-1.823426</td>\n",
       "      <td>0.125247</td>\n",
       "      <td>-0.966272</td>\n",
       "      <td>-0.185226</td>\n",
       "      <td>1.792993</td>\n",
       "      <td>-0.863291</td>\n",
       "      <td>-0.010309</td>\n",
       "      <td>1.247203</td>\n",
       "      <td>0.237609</td>\n",
       "      <td>0.377436</td>\n",
       "      <td>...</td>\n",
       "      <td>-0.208038</td>\n",
       "      <td>-0.108300</td>\n",
       "      <td>0.005274</td>\n",
       "      <td>-0.190321</td>\n",
       "      <td>-1.175575</td>\n",
       "      <td>0.647376</td>\n",
       "      <td>-0.221929</td>\n",
       "      <td>0.062723</td>\n",
       "      <td>0.061458</td>\n",
       "      <td>0.0</td>\n",
       "    </tr>\n",
       "    <tr>\n",
       "      <th>4</th>\n",
       "      <td>-1.823406</td>\n",
       "      <td>-0.117180</td>\n",
       "      <td>-1.158233</td>\n",
       "      <td>0.877737</td>\n",
       "      <td>1.548718</td>\n",
       "      <td>0.403034</td>\n",
       "      <td>-0.407193</td>\n",
       "      <td>0.095921</td>\n",
       "      <td>0.592941</td>\n",
       "      <td>-0.270533</td>\n",
       "      <td>...</td>\n",
       "      <td>0.408542</td>\n",
       "      <td>-0.009431</td>\n",
       "      <td>0.798278</td>\n",
       "      <td>-0.137458</td>\n",
       "      <td>0.141267</td>\n",
       "      <td>-0.206010</td>\n",
       "      <td>0.502292</td>\n",
       "      <td>0.219422</td>\n",
       "      <td>0.215153</td>\n",
       "      <td>0.0</td>\n",
       "    </tr>\n",
       "  </tbody>\n",
       "</table>\n",
       "<p>5 rows × 31 columns</p>\n",
       "</div>"
      ],
      "text/plain": [
       "       Time    Amount        V1        V2        V3        V4        V5  \\\n",
       "0 -1.823447  0.243584 -1.359807 -0.072781  2.536347  1.378155 -0.338321   \n",
       "1 -1.823447 -0.422082  1.191857  0.266151  0.166480  0.448154  0.060018   \n",
       "2 -1.823426  1.281250 -1.358354 -1.340163  1.773209  0.379780 -0.503198   \n",
       "3 -1.823426  0.125247 -0.966272 -0.185226  1.792993 -0.863291 -0.010309   \n",
       "4 -1.823406 -0.117180 -1.158233  0.877737  1.548718  0.403034 -0.407193   \n",
       "\n",
       "         V6        V7        V8  ...       V20       V21       V22       V23  \\\n",
       "0  0.462388  0.239599  0.098698  ...  0.251412 -0.018307  0.277838 -0.110474   \n",
       "1 -0.082361 -0.078803  0.085102  ... -0.069083 -0.225775 -0.638672  0.101288   \n",
       "2  1.800499  0.791461  0.247676  ...  0.524980  0.247998  0.771679  0.909412   \n",
       "3  1.247203  0.237609  0.377436  ... -0.208038 -0.108300  0.005274 -0.190321   \n",
       "4  0.095921  0.592941 -0.270533  ...  0.408542 -0.009431  0.798278 -0.137458   \n",
       "\n",
       "        V24       V25       V26       V27       V28  Class  \n",
       "0  0.066928  0.128539 -0.189115  0.133558 -0.021053    0.0  \n",
       "1 -0.339846  0.167170  0.125895 -0.008983  0.014724    0.0  \n",
       "2 -0.689281 -0.327642 -0.139097 -0.055353 -0.059752    0.0  \n",
       "3 -1.175575  0.647376 -0.221929  0.062723  0.061458    0.0  \n",
       "4  0.141267 -0.206010  0.502292  0.219422  0.215153    0.0  \n",
       "\n",
       "[5 rows x 31 columns]"
      ]
     },
     "execution_count": 38,
     "metadata": {},
     "output_type": "execute_result"
    }
   ],
   "source": [
    "d_scaled.head()"
   ]
  },
  {
   "attachments": {},
   "cell_type": "markdown",
   "id": "69ff54ce",
   "metadata": {},
   "source": [
    "dimension reduction by the PCA"
   ]
  },
  {
   "cell_type": "code",
   "execution_count": 39,
   "id": "8e6486d1",
   "metadata": {},
   "outputs": [],
   "source": [
    "pca = PCA(n_components=7)"
   ]
  },
  {
   "cell_type": "code",
   "execution_count": 40,
   "id": "eafcd5a1",
   "metadata": {},
   "outputs": [],
   "source": [
    "X_temp_reduced = pca.fit_transform(d_scaled)"
   ]
  },
  {
   "cell_type": "code",
   "execution_count": 41,
   "id": "3c6e2fb6",
   "metadata": {},
   "outputs": [
    {
     "data": {
      "text/plain": [
       "array([0.67949336, 0.09761896, 0.07988657, 0.03341988, 0.0324338 ,\n",
       "       0.01054341, 0.00790268])"
      ]
     },
     "execution_count": 41,
     "metadata": {},
     "output_type": "execute_result"
    }
   ],
   "source": [
    "pca.explained_variance_ratio_\n"
   ]
  },
  {
   "cell_type": "code",
   "execution_count": 42,
   "id": "e5b024c9",
   "metadata": {},
   "outputs": [
    {
     "data": {
      "text/plain": [
       "array([209.24029861,  30.06036681,  24.59993048,  10.29117584,\n",
       "         9.98752516,   3.24669364,   2.43351821])"
      ]
     },
     "execution_count": 42,
     "metadata": {},
     "output_type": "execute_result"
    }
   ],
   "source": [
    "pca.explained_variance_\n"
   ]
  },
  {
   "cell_type": "code",
   "execution_count": 43,
   "id": "4b5660a3",
   "metadata": {},
   "outputs": [],
   "source": [
    "names=['Time','Amount','Transaction Method','Transaction Id','Location','Type of Card','Bank']\n"
   ]
  },
  {
   "cell_type": "code",
   "execution_count": 44,
   "metadata": {},
   "outputs": [
    {
     "data": {
      "text/html": [
       "<div>\n",
       "<style scoped>\n",
       "    .dataframe tbody tr th:only-of-type {\n",
       "        vertical-align: middle;\n",
       "    }\n",
       "\n",
       "    .dataframe tbody tr th {\n",
       "        vertical-align: top;\n",
       "    }\n",
       "\n",
       "    .dataframe thead th {\n",
       "        text-align: right;\n",
       "    }\n",
       "</style>\n",
       "<table border=\"1\" class=\"dataframe\">\n",
       "  <thead>\n",
       "    <tr style=\"text-align: right;\">\n",
       "      <th></th>\n",
       "      <th>Time</th>\n",
       "      <th>Amount</th>\n",
       "      <th>Transaction Method</th>\n",
       "      <th>Transaction Id</th>\n",
       "      <th>Location</th>\n",
       "      <th>Type of Card</th>\n",
       "      <th>Bank</th>\n",
       "    </tr>\n",
       "  </thead>\n",
       "  <tbody>\n",
       "    <tr>\n",
       "      <th>0</th>\n",
       "      <td>-9.753015</td>\n",
       "      <td>0.549105</td>\n",
       "      <td>1.181061</td>\n",
       "      <td>-0.651147</td>\n",
       "      <td>1.633708</td>\n",
       "      <td>0.894678</td>\n",
       "      <td>-1.008740</td>\n",
       "    </tr>\n",
       "    <tr>\n",
       "      <th>1</th>\n",
       "      <td>-9.767029</td>\n",
       "      <td>0.372815</td>\n",
       "      <td>1.109112</td>\n",
       "      <td>-0.031308</td>\n",
       "      <td>0.564446</td>\n",
       "      <td>-1.106611</td>\n",
       "      <td>-0.384842</td>\n",
       "    </tr>\n",
       "    <tr>\n",
       "      <th>2</th>\n",
       "      <td>-9.849717</td>\n",
       "      <td>0.461754</td>\n",
       "      <td>1.170640</td>\n",
       "      <td>-0.644928</td>\n",
       "      <td>1.732178</td>\n",
       "      <td>1.574545</td>\n",
       "      <td>0.772342</td>\n",
       "    </tr>\n",
       "    <tr>\n",
       "      <th>3</th>\n",
       "      <td>-9.905016</td>\n",
       "      <td>0.574634</td>\n",
       "      <td>1.498383</td>\n",
       "      <td>-0.599941</td>\n",
       "      <td>1.711357</td>\n",
       "      <td>0.223375</td>\n",
       "      <td>-0.674150</td>\n",
       "    </tr>\n",
       "    <tr>\n",
       "      <th>4</th>\n",
       "      <td>-9.710662</td>\n",
       "      <td>0.787151</td>\n",
       "      <td>1.488529</td>\n",
       "      <td>-1.048059</td>\n",
       "      <td>1.290100</td>\n",
       "      <td>-0.032450</td>\n",
       "      <td>-0.916231</td>\n",
       "    </tr>\n",
       "  </tbody>\n",
       "</table>\n",
       "</div>"
      ],
      "text/plain": [
       "       Time    Amount  Transaction Method  Transaction Id  Location  \\\n",
       "0 -9.753015  0.549105            1.181061       -0.651147  1.633708   \n",
       "1 -9.767029  0.372815            1.109112       -0.031308  0.564446   \n",
       "2 -9.849717  0.461754            1.170640       -0.644928  1.732178   \n",
       "3 -9.905016  0.574634            1.498383       -0.599941  1.711357   \n",
       "4 -9.710662  0.787151            1.488529       -1.048059  1.290100   \n",
       "\n",
       "   Type of Card      Bank  \n",
       "0      0.894678 -1.008740  \n",
       "1     -1.106611 -0.384842  \n",
       "2      1.574545  0.772342  \n",
       "3      0.223375 -0.674150  \n",
       "4     -0.032450 -0.916231  "
      ]
     },
     "execution_count": 44,
     "metadata": {},
     "output_type": "execute_result"
    }
   ],
   "source": [
    "X_reduced= pd.DataFrame(X_temp_reduced,columns=names)\n",
    "X_reduced.head()"
   ]
  },
  {
   "cell_type": "code",
   "execution_count": 45,
   "id": "249f7b49",
   "metadata": {},
   "outputs": [
    {
     "data": {
      "text/html": [
       "<div>\n",
       "<style scoped>\n",
       "    .dataframe tbody tr th:only-of-type {\n",
       "        vertical-align: middle;\n",
       "    }\n",
       "\n",
       "    .dataframe tbody tr th {\n",
       "        vertical-align: top;\n",
       "    }\n",
       "\n",
       "    .dataframe thead th {\n",
       "        text-align: right;\n",
       "    }\n",
       "</style>\n",
       "<table border=\"1\" class=\"dataframe\">\n",
       "  <thead>\n",
       "    <tr style=\"text-align: right;\">\n",
       "      <th></th>\n",
       "      <th>Time</th>\n",
       "      <th>Amount</th>\n",
       "      <th>Transaction Method</th>\n",
       "      <th>Transaction Id</th>\n",
       "      <th>Location</th>\n",
       "      <th>Type of Card</th>\n",
       "      <th>Bank</th>\n",
       "      <th>Class</th>\n",
       "    </tr>\n",
       "  </thead>\n",
       "  <tbody>\n",
       "    <tr>\n",
       "      <th>0</th>\n",
       "      <td>-9.753015</td>\n",
       "      <td>0.549105</td>\n",
       "      <td>1.181061</td>\n",
       "      <td>-0.651147</td>\n",
       "      <td>1.633708</td>\n",
       "      <td>0.894678</td>\n",
       "      <td>-1.008740</td>\n",
       "      <td>0.0</td>\n",
       "    </tr>\n",
       "    <tr>\n",
       "      <th>1</th>\n",
       "      <td>-9.767029</td>\n",
       "      <td>0.372815</td>\n",
       "      <td>1.109112</td>\n",
       "      <td>-0.031308</td>\n",
       "      <td>0.564446</td>\n",
       "      <td>-1.106611</td>\n",
       "      <td>-0.384842</td>\n",
       "      <td>0.0</td>\n",
       "    </tr>\n",
       "    <tr>\n",
       "      <th>2</th>\n",
       "      <td>-9.849717</td>\n",
       "      <td>0.461754</td>\n",
       "      <td>1.170640</td>\n",
       "      <td>-0.644928</td>\n",
       "      <td>1.732178</td>\n",
       "      <td>1.574545</td>\n",
       "      <td>0.772342</td>\n",
       "      <td>0.0</td>\n",
       "    </tr>\n",
       "    <tr>\n",
       "      <th>3</th>\n",
       "      <td>-9.905016</td>\n",
       "      <td>0.574634</td>\n",
       "      <td>1.498383</td>\n",
       "      <td>-0.599941</td>\n",
       "      <td>1.711357</td>\n",
       "      <td>0.223375</td>\n",
       "      <td>-0.674150</td>\n",
       "      <td>0.0</td>\n",
       "    </tr>\n",
       "    <tr>\n",
       "      <th>4</th>\n",
       "      <td>-9.710662</td>\n",
       "      <td>0.787151</td>\n",
       "      <td>1.488529</td>\n",
       "      <td>-1.048059</td>\n",
       "      <td>1.290100</td>\n",
       "      <td>-0.032450</td>\n",
       "      <td>-0.916231</td>\n",
       "      <td>0.0</td>\n",
       "    </tr>\n",
       "  </tbody>\n",
       "</table>\n",
       "</div>"
      ],
      "text/plain": [
       "       Time    Amount  Transaction Method  Transaction Id  Location  \\\n",
       "0 -9.753015  0.549105            1.181061       -0.651147  1.633708   \n",
       "1 -9.767029  0.372815            1.109112       -0.031308  0.564446   \n",
       "2 -9.849717  0.461754            1.170640       -0.644928  1.732178   \n",
       "3 -9.905016  0.574634            1.498383       -0.599941  1.711357   \n",
       "4 -9.710662  0.787151            1.488529       -1.048059  1.290100   \n",
       "\n",
       "   Type of Card      Bank  Class  \n",
       "0      0.894678 -1.008740    0.0  \n",
       "1     -1.106611 -0.384842    0.0  \n",
       "2      1.574545  0.772342    0.0  \n",
       "3      0.223375 -0.674150    0.0  \n",
       "4     -0.032450 -0.916231    0.0  "
      ]
     },
     "execution_count": 45,
     "metadata": {},
     "output_type": "execute_result"
    }
   ],
   "source": [
    "Y=d_scaled['Class']\n",
    "new_data=pd.concat([X_reduced,Y],axis=1)\n",
    "new_data.head()"
   ]
  },
  {
   "cell_type": "code",
   "execution_count": 46,
   "id": "ade14a18",
   "metadata": {},
   "outputs": [],
   "source": [
    "new_data.to_csv('finaldata.csv')"
   ]
  },
  {
   "cell_type": "code",
   "execution_count": 2,
   "id": "f694f1f8",
   "metadata": {},
   "outputs": [
    {
     "data": {
      "text/html": [
       "<div>\n",
       "<style scoped>\n",
       "    .dataframe tbody tr th:only-of-type {\n",
       "        vertical-align: middle;\n",
       "    }\n",
       "\n",
       "    .dataframe tbody tr th {\n",
       "        vertical-align: top;\n",
       "    }\n",
       "\n",
       "    .dataframe thead th {\n",
       "        text-align: right;\n",
       "    }\n",
       "</style>\n",
       "<table border=\"1\" class=\"dataframe\">\n",
       "  <thead>\n",
       "    <tr style=\"text-align: right;\">\n",
       "      <th></th>\n",
       "      <th>Unnamed: 0</th>\n",
       "      <th>Time</th>\n",
       "      <th>Amount</th>\n",
       "      <th>Transaction Method</th>\n",
       "      <th>Transaction Id</th>\n",
       "      <th>Location</th>\n",
       "      <th>Type of Card</th>\n",
       "      <th>Bank</th>\n",
       "      <th>Class</th>\n",
       "    </tr>\n",
       "  </thead>\n",
       "  <tbody>\n",
       "    <tr>\n",
       "      <th>0</th>\n",
       "      <td>0</td>\n",
       "      <td>-9.753015</td>\n",
       "      <td>0.549105</td>\n",
       "      <td>1.181061</td>\n",
       "      <td>-0.651147</td>\n",
       "      <td>1.633708</td>\n",
       "      <td>0.894678</td>\n",
       "      <td>-1.008740</td>\n",
       "      <td>0.0</td>\n",
       "    </tr>\n",
       "    <tr>\n",
       "      <th>1</th>\n",
       "      <td>1</td>\n",
       "      <td>-9.767029</td>\n",
       "      <td>0.372815</td>\n",
       "      <td>1.109112</td>\n",
       "      <td>-0.031308</td>\n",
       "      <td>0.564446</td>\n",
       "      <td>-1.106611</td>\n",
       "      <td>-0.384842</td>\n",
       "      <td>0.0</td>\n",
       "    </tr>\n",
       "    <tr>\n",
       "      <th>2</th>\n",
       "      <td>2</td>\n",
       "      <td>-9.849717</td>\n",
       "      <td>0.461754</td>\n",
       "      <td>1.170640</td>\n",
       "      <td>-0.644928</td>\n",
       "      <td>1.732178</td>\n",
       "      <td>1.574545</td>\n",
       "      <td>0.772342</td>\n",
       "      <td>0.0</td>\n",
       "    </tr>\n",
       "    <tr>\n",
       "      <th>3</th>\n",
       "      <td>3</td>\n",
       "      <td>-9.905016</td>\n",
       "      <td>0.574634</td>\n",
       "      <td>1.498383</td>\n",
       "      <td>-0.599941</td>\n",
       "      <td>1.711357</td>\n",
       "      <td>0.223375</td>\n",
       "      <td>-0.674150</td>\n",
       "      <td>0.0</td>\n",
       "    </tr>\n",
       "    <tr>\n",
       "      <th>4</th>\n",
       "      <td>4</td>\n",
       "      <td>-9.710662</td>\n",
       "      <td>0.787151</td>\n",
       "      <td>1.488529</td>\n",
       "      <td>-1.048059</td>\n",
       "      <td>1.290100</td>\n",
       "      <td>-0.032450</td>\n",
       "      <td>-0.916231</td>\n",
       "      <td>0.0</td>\n",
       "    </tr>\n",
       "  </tbody>\n",
       "</table>\n",
       "</div>"
      ],
      "text/plain": [
       "   Unnamed: 0      Time    Amount  Transaction Method  Transaction Id  \\\n",
       "0           0 -9.753015  0.549105            1.181061       -0.651147   \n",
       "1           1 -9.767029  0.372815            1.109112       -0.031308   \n",
       "2           2 -9.849717  0.461754            1.170640       -0.644928   \n",
       "3           3 -9.905016  0.574634            1.498383       -0.599941   \n",
       "4           4 -9.710662  0.787151            1.488529       -1.048059   \n",
       "\n",
       "   Location  Type of Card      Bank  Class  \n",
       "0  1.633708      0.894678 -1.008740    0.0  \n",
       "1  0.564446     -1.106611 -0.384842    0.0  \n",
       "2  1.732178      1.574545  0.772342    0.0  \n",
       "3  1.711357      0.223375 -0.674150    0.0  \n",
       "4  1.290100     -0.032450 -0.916231    0.0  "
      ]
     },
     "execution_count": 2,
     "metadata": {},
     "output_type": "execute_result"
    }
   ],
   "source": [
    "df = pd.read_csv('data/finaldata.csv')\n",
    "df.head()"
   ]
  },
  {
   "cell_type": "code",
   "execution_count": 4,
   "id": "f4987297",
   "metadata": {},
   "outputs": [],
   "source": [
    "df = df.iloc[:,1:]"
   ]
  },
  {
   "cell_type": "code",
   "execution_count": 6,
   "id": "431a7d96",
   "metadata": {},
   "outputs": [],
   "source": [
    "x = df.drop(['Class'],axis=1)\n",
    "y = df['Class']"
   ]
  },
  {
   "cell_type": "code",
   "execution_count": 7,
   "id": "f522de97",
   "metadata": {},
   "outputs": [],
   "source": [
    "X_train, X_test, y_train, y_test= train_test_split(x,y, test_size = 0.30, random_state = 42)\n"
   ]
  },
  {
   "cell_type": "code",
   "execution_count": 48,
   "metadata": {},
   "outputs": [
    {
     "data": {
      "text/plain": [
       "((398041, 7), (170589, 7))"
      ]
     },
     "execution_count": 48,
     "metadata": {},
     "output_type": "execute_result"
    }
   ],
   "source": [
    "X_train.shape, X_test.shape\n"
   ]
  },
  {
   "cell_type": "code",
   "execution_count": 8,
   "id": "3269e209",
   "metadata": {},
   "outputs": [
    {
     "data": {
      "text/html": [
       "<style>#sk-container-id-1 {color: black;background-color: white;}#sk-container-id-1 pre{padding: 0;}#sk-container-id-1 div.sk-toggleable {background-color: white;}#sk-container-id-1 label.sk-toggleable__label {cursor: pointer;display: block;width: 100%;margin-bottom: 0;padding: 0.3em;box-sizing: border-box;text-align: center;}#sk-container-id-1 label.sk-toggleable__label-arrow:before {content: \"▸\";float: left;margin-right: 0.25em;color: #696969;}#sk-container-id-1 label.sk-toggleable__label-arrow:hover:before {color: black;}#sk-container-id-1 div.sk-estimator:hover label.sk-toggleable__label-arrow:before {color: black;}#sk-container-id-1 div.sk-toggleable__content {max-height: 0;max-width: 0;overflow: hidden;text-align: left;background-color: #f0f8ff;}#sk-container-id-1 div.sk-toggleable__content pre {margin: 0.2em;color: black;border-radius: 0.25em;background-color: #f0f8ff;}#sk-container-id-1 input.sk-toggleable__control:checked~div.sk-toggleable__content {max-height: 200px;max-width: 100%;overflow: auto;}#sk-container-id-1 input.sk-toggleable__control:checked~label.sk-toggleable__label-arrow:before {content: \"▾\";}#sk-container-id-1 div.sk-estimator input.sk-toggleable__control:checked~label.sk-toggleable__label {background-color: #d4ebff;}#sk-container-id-1 div.sk-label input.sk-toggleable__control:checked~label.sk-toggleable__label {background-color: #d4ebff;}#sk-container-id-1 input.sk-hidden--visually {border: 0;clip: rect(1px 1px 1px 1px);clip: rect(1px, 1px, 1px, 1px);height: 1px;margin: -1px;overflow: hidden;padding: 0;position: absolute;width: 1px;}#sk-container-id-1 div.sk-estimator {font-family: monospace;background-color: #f0f8ff;border: 1px dotted black;border-radius: 0.25em;box-sizing: border-box;margin-bottom: 0.5em;}#sk-container-id-1 div.sk-estimator:hover {background-color: #d4ebff;}#sk-container-id-1 div.sk-parallel-item::after {content: \"\";width: 100%;border-bottom: 1px solid gray;flex-grow: 1;}#sk-container-id-1 div.sk-label:hover label.sk-toggleable__label {background-color: #d4ebff;}#sk-container-id-1 div.sk-serial::before {content: \"\";position: absolute;border-left: 1px solid gray;box-sizing: border-box;top: 0;bottom: 0;left: 50%;z-index: 0;}#sk-container-id-1 div.sk-serial {display: flex;flex-direction: column;align-items: center;background-color: white;padding-right: 0.2em;padding-left: 0.2em;position: relative;}#sk-container-id-1 div.sk-item {position: relative;z-index: 1;}#sk-container-id-1 div.sk-parallel {display: flex;align-items: stretch;justify-content: center;background-color: white;position: relative;}#sk-container-id-1 div.sk-item::before, #sk-container-id-1 div.sk-parallel-item::before {content: \"\";position: absolute;border-left: 1px solid gray;box-sizing: border-box;top: 0;bottom: 0;left: 50%;z-index: -1;}#sk-container-id-1 div.sk-parallel-item {display: flex;flex-direction: column;z-index: 1;position: relative;background-color: white;}#sk-container-id-1 div.sk-parallel-item:first-child::after {align-self: flex-end;width: 50%;}#sk-container-id-1 div.sk-parallel-item:last-child::after {align-self: flex-start;width: 50%;}#sk-container-id-1 div.sk-parallel-item:only-child::after {width: 0;}#sk-container-id-1 div.sk-dashed-wrapped {border: 1px dashed gray;margin: 0 0.4em 0.5em 0.4em;box-sizing: border-box;padding-bottom: 0.4em;background-color: white;}#sk-container-id-1 div.sk-label label {font-family: monospace;font-weight: bold;display: inline-block;line-height: 1.2em;}#sk-container-id-1 div.sk-label-container {text-align: center;}#sk-container-id-1 div.sk-container {/* jupyter's `normalize.less` sets `[hidden] { display: none; }` but bootstrap.min.css set `[hidden] { display: none !important; }` so we also need the `!important` here to be able to override the default hidden behavior on the sphinx rendered scikit-learn.org. See: https://github.com/scikit-learn/scikit-learn/issues/21755 */display: inline-block !important;position: relative;}#sk-container-id-1 div.sk-text-repr-fallback {display: none;}</style><div id=\"sk-container-id-1\" class=\"sk-top-container\"><div class=\"sk-text-repr-fallback\"><pre>SVC(C=100, gamma=0.01)</pre><b>In a Jupyter environment, please rerun this cell to show the HTML representation or trust the notebook. <br />On GitHub, the HTML representation is unable to render, please try loading this page with nbviewer.org.</b></div><div class=\"sk-container\" hidden><div class=\"sk-item\"><div class=\"sk-estimator sk-toggleable\"><input class=\"sk-toggleable__control sk-hidden--visually\" id=\"sk-estimator-id-1\" type=\"checkbox\" checked><label for=\"sk-estimator-id-1\" class=\"sk-toggleable__label sk-toggleable__label-arrow\">SVC</label><div class=\"sk-toggleable__content\"><pre>SVC(C=100, gamma=0.01)</pre></div></div></div></div></div>"
      ],
      "text/plain": [
       "SVC(C=100, gamma=0.01)"
      ]
     },
     "execution_count": 8,
     "metadata": {},
     "output_type": "execute_result"
    }
   ],
   "source": [
    "svc_param2=SVC(kernel='rbf',gamma=0.01,C=100)\n",
    "svc_param2.fit(X_train,y_train)"
   ]
  },
  {
   "cell_type": "code",
   "execution_count": 9,
   "id": "fd56c852",
   "metadata": {},
   "outputs": [],
   "source": [
    "import pickle\n",
    "# Saving model to disk\n",
    "pickle.dump(svc_param2, open('model2.pkl','wb'))"
   ]
  },
  {
   "cell_type": "code",
   "execution_count": 10,
   "id": "f8cb98f3",
   "metadata": {},
   "outputs": [],
   "source": [
    "y_pred = svc_param2.predict(X_test)"
   ]
  },
  {
   "cell_type": "code",
   "execution_count": 11,
   "id": "4fb42c5b",
   "metadata": {},
   "outputs": [
    {
     "name": "stdout",
     "output_type": "stream",
     "text": [
      "              precision    recall  f1-score   support\n",
      "\n",
      "         0.0       0.98      0.99      0.99     85149\n",
      "         1.0       0.99      0.98      0.99     85440\n",
      "\n",
      "    accuracy                           0.99    170589\n",
      "   macro avg       0.99      0.99      0.99    170589\n",
      "weighted avg       0.99      0.99      0.99    170589\n",
      "\n"
     ]
    }
   ],
   "source": [
    "\n",
    "print(classification_report(y_test,y_pred))"
   ]
  },
  {
   "cell_type": "code",
   "execution_count": 51,
   "id": "5e604dd4",
   "metadata": {},
   "outputs": [],
   "source": [
    "pickle.dump(X_test,open('data/x_test.pkl','wb'))"
   ]
  },
  {
   "cell_type": "code",
   "execution_count": 57,
   "id": "7c384d37",
   "metadata": {},
   "outputs": [
    {
     "data": {
      "text/plain": [
       "array([-8.1673991 ,  0.18796725,  0.611873  ,  0.01167418, -0.02769017,\n",
       "       -0.24487638, -0.56675784])"
      ]
     },
     "execution_count": 57,
     "metadata": {},
     "output_type": "execute_result"
    }
   ],
   "source": [
    "X_test.values[0]\n"
   ]
  },
  {
   "cell_type": "code",
   "execution_count": 58,
   "id": "7c7b6183",
   "metadata": {},
   "outputs": [
    {
     "data": {
      "text/html": [
       "<div>\n",
       "<style scoped>\n",
       "    .dataframe tbody tr th:only-of-type {\n",
       "        vertical-align: middle;\n",
       "    }\n",
       "\n",
       "    .dataframe tbody tr th {\n",
       "        vertical-align: top;\n",
       "    }\n",
       "\n",
       "    .dataframe thead th {\n",
       "        text-align: right;\n",
       "    }\n",
       "</style>\n",
       "<table border=\"1\" class=\"dataframe\">\n",
       "  <thead>\n",
       "    <tr style=\"text-align: right;\">\n",
       "      <th></th>\n",
       "      <th>Time</th>\n",
       "      <th>Amount</th>\n",
       "      <th>Transaction Method</th>\n",
       "      <th>Transaction Id</th>\n",
       "      <th>Location</th>\n",
       "      <th>Type of Card</th>\n",
       "      <th>Bank</th>\n",
       "      <th>Class</th>\n",
       "    </tr>\n",
       "  </thead>\n",
       "  <tbody>\n",
       "    <tr>\n",
       "      <th>0</th>\n",
       "      <td>-9.753015</td>\n",
       "      <td>0.549105</td>\n",
       "      <td>1.181061</td>\n",
       "      <td>-0.651147</td>\n",
       "      <td>1.633708</td>\n",
       "      <td>0.894678</td>\n",
       "      <td>-1.008740</td>\n",
       "      <td>0.0</td>\n",
       "    </tr>\n",
       "    <tr>\n",
       "      <th>1</th>\n",
       "      <td>-9.767029</td>\n",
       "      <td>0.372815</td>\n",
       "      <td>1.109112</td>\n",
       "      <td>-0.031308</td>\n",
       "      <td>0.564446</td>\n",
       "      <td>-1.106611</td>\n",
       "      <td>-0.384842</td>\n",
       "      <td>0.0</td>\n",
       "    </tr>\n",
       "    <tr>\n",
       "      <th>2</th>\n",
       "      <td>-9.849717</td>\n",
       "      <td>0.461754</td>\n",
       "      <td>1.170640</td>\n",
       "      <td>-0.644928</td>\n",
       "      <td>1.732178</td>\n",
       "      <td>1.574545</td>\n",
       "      <td>0.772342</td>\n",
       "      <td>0.0</td>\n",
       "    </tr>\n",
       "    <tr>\n",
       "      <th>3</th>\n",
       "      <td>-9.905016</td>\n",
       "      <td>0.574634</td>\n",
       "      <td>1.498383</td>\n",
       "      <td>-0.599941</td>\n",
       "      <td>1.711357</td>\n",
       "      <td>0.223375</td>\n",
       "      <td>-0.674150</td>\n",
       "      <td>0.0</td>\n",
       "    </tr>\n",
       "    <tr>\n",
       "      <th>4</th>\n",
       "      <td>-9.710662</td>\n",
       "      <td>0.787151</td>\n",
       "      <td>1.488529</td>\n",
       "      <td>-1.048059</td>\n",
       "      <td>1.290100</td>\n",
       "      <td>-0.032450</td>\n",
       "      <td>-0.916231</td>\n",
       "      <td>0.0</td>\n",
       "    </tr>\n",
       "  </tbody>\n",
       "</table>\n",
       "</div>"
      ],
      "text/plain": [
       "       Time    Amount  Transaction Method  Transaction Id  Location  \\\n",
       "0 -9.753015  0.549105            1.181061       -0.651147  1.633708   \n",
       "1 -9.767029  0.372815            1.109112       -0.031308  0.564446   \n",
       "2 -9.849717  0.461754            1.170640       -0.644928  1.732178   \n",
       "3 -9.905016  0.574634            1.498383       -0.599941  1.711357   \n",
       "4 -9.710662  0.787151            1.488529       -1.048059  1.290100   \n",
       "\n",
       "   Type of Card      Bank  Class  \n",
       "0      0.894678 -1.008740    0.0  \n",
       "1     -1.106611 -0.384842    0.0  \n",
       "2      1.574545  0.772342    0.0  \n",
       "3      0.223375 -0.674150    0.0  \n",
       "4     -0.032450 -0.916231    0.0  "
      ]
     },
     "execution_count": 58,
     "metadata": {},
     "output_type": "execute_result"
    }
   ],
   "source": [
    "new_data.head()"
   ]
  },
  {
   "cell_type": "code",
   "execution_count": 54,
   "id": "061ab97c",
   "metadata": {},
   "outputs": [
    {
     "data": {
      "text/plain": [
       "array([-9.57135113,  0.86383995,  1.46720172, -0.43663537,  1.1212021 ,\n",
       "        1.39932438, -1.49645872])"
      ]
     },
     "execution_count": 54,
     "metadata": {},
     "output_type": "execute_result"
    }
   ],
   "source": [
    "X_test.values[5]\n"
   ]
  },
  {
   "cell_type": "code",
   "execution_count": 56,
   "metadata": {},
   "outputs": [
    {
     "data": {
      "text/plain": [
       "array([[-7.7993604 , -0.1899133 ,  0.16442362,  1.20345244, -2.47992282,\n",
       "        -0.22174801,  1.85918979],\n",
       "       [-0.5863174 , -2.20647021, -2.11709288, -0.57504016,  2.03002489,\n",
       "        -0.63729821, -0.66066583],\n",
       "       [-9.30997361,  0.86471565,  2.33575711, -0.63411576,  1.30331634,\n",
       "         0.12688249, -1.54784835],\n",
       "       [ 2.19906078, -1.41661556,  1.67953467, -1.1405215 ,  2.18095262,\n",
       "         4.06348294,  4.99759886],\n",
       "       [-9.84895658,  0.45273415,  0.99368719, -0.43995317,  1.7122407 ,\n",
       "         1.616107  , -0.37495162]])"
      ]
     },
     "execution_count": 56,
     "metadata": {},
     "output_type": "execute_result"
    }
   ],
   "source": [
    "X_test.values[6:11]\n"
   ]
  },
  {
   "cell_type": "code",
   "execution_count": null,
   "id": "72653dc0",
   "metadata": {},
   "outputs": [],
   "source": []
  },
  {
   "cell_type": "code",
   "execution_count": null,
   "metadata": {},
   "outputs": [],
   "source": []
  },
  {
   "cell_type": "code",
   "execution_count": null,
   "id": "dbf2f1de",
   "metadata": {},
   "outputs": [],
   "source": []
  },
  {
   "cell_type": "code",
   "execution_count": null,
   "id": "9aa1f680",
   "metadata": {},
   "outputs": [],
   "source": []
  },
  {
   "cell_type": "code",
   "execution_count": null,
   "id": "e7ece6b8",
   "metadata": {},
   "outputs": [],
   "source": []
  },
  {
   "cell_type": "code",
   "execution_count": null,
   "id": "9e3af144",
   "metadata": {},
   "outputs": [],
   "source": []
  }
 ],
 "metadata": {
  "kernelspec": {
   "display_name": "Python 3",
   "language": "python",
   "name": "python3"
  },
  "language_info": {
   "codemirror_mode": {
    "name": "ipython",
    "version": 3
   },
   "file_extension": ".py",
   "mimetype": "text/x-python",
   "name": "python",
   "nbconvert_exporter": "python",
   "pygments_lexer": "ipython3",
   "version": "3.10.6"
  },
  "vscode": {
   "interpreter": {
    "hash": "4843bf8525525bff01b65ec8f6f5f6eb6affffbfe485db02cb3adca26ffd5219"
   }
  }
 },
 "nbformat": 4,
 "nbformat_minor": 5
}
